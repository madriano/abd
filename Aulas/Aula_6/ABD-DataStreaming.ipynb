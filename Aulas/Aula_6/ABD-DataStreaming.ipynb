{
 "cells": [
  {
   "cell_type": "markdown",
   "metadata": {},
   "source": [
    ">**Algoritmos para Big Data**\n",
    "\n",
    ">**2023/24**"
   ]
  },
  {
   "cell_type": "markdown",
   "metadata": {
    "heading_collapsed": true
   },
   "source": [
    "# Data Stream Processing\n",
    "This lecture is about processing a stream of data. We will rely on the structure streaming library of Apache Spark. "
   ]
  },
  {
   "cell_type": "markdown",
   "metadata": {},
   "source": [
    "## Structured streaming\n",
    "A key aspect of structured streaming is to acquire/send data from a streaming data producer/consumer. That is, from a streaming source/sink.\n",
    "\n",
    "Apache Spark provides methods to read/write from/to a stream, \n",
    "accordingly to some formats we may select from. Of course, some kind of configuration is required.\n",
    "\n",
    "Firstly, there are the usual file-based formats like json, parquet, csv, text, and so on.\n",
    "Also, we can use socket connections to get/send text data from/to TCP servers, and more importantly, we can rely on functionalities of advanced message systems like Apache Kafka, which will play a sort of buffering role. \n",
    "\n",
    "Secondly, we have to set an output mode, which defines how the results will be delivered. For instance, to see all data every time, only updates, or just the new records.\n",
    "\n",
    "Further details can be found in https://spark.apache.org/docs/latest/structured-streaming-programming-guide.html\n"
   ]
  },
  {
   "cell_type": "markdown",
   "metadata": {
    "heading_collapsed": true
   },
   "source": [
    "# Problem formulation\n",
    "\n",
    "This exercise is about detecting credit card frauds in near real-time. This case-study is based on a Kaggle dataset that it is available in https://www.kaggle.com/datasets/ealtman2019/credit-card-transactions. The dataset is expected to be a realistic example of synthetic data regarding credit card transactions.\n",
    "\n",
    "We assume that a ML classification model has already been created and made available. Therefore, now we have to deal with a stream of transactions that are expected to be processed, like it would be in in a real-time scenario. Hence, we will simulate such scenario, mostly relying on Spark's Structured Streaming.\n",
    "\n",
    "The functional requirements for the Spark program we are going to create are as follows:\n",
    "1. To load a ML model previously built.\n",
    "2. To process credit card transactions held in a simulated data stream, by applying the ML model.\n",
    "3. To explore the results obtained.\n",
    "\n",
    "Also, in order to speed up some processing, we will use some files that were computed in advance.\n",
    "\n",
    "**Data available**\n",
    "\n",
    "- The dataset about the stream of credit card transactions can be downloaded from the location\n",
    "\n",
    ">https://bigdata.iscte.me/abd/credit-card-transactions-stream.zip\n",
    "\n",
    "- The ML classification model already built can be downloaded from the location\n",
    "\n",
    ">https://bigdata.iscte.me/abd/model-LinearSVM-credit-cards.zip\n",
    "\n",
    "All the files are in parquet format."
   ]
  },
  {
   "cell_type": "markdown",
   "metadata": {},
   "source": [
    "# Initial settings"
   ]
  },
  {
   "cell_type": "markdown",
   "metadata": {},
   "source": [
    "## Additional packages and imports"
   ]
  },
  {
   "cell_type": "code",
   "execution_count": 1,
   "metadata": {},
   "outputs": [],
   "source": [
    "import findspark, pyspark\n",
    "\n",
    "from pyspark.sql import SparkSession\n",
    "from pyspark.sql.types import *\n",
    "import pyspark.sql.functions as F"
   ]
  },
  {
   "cell_type": "code",
   "execution_count": 2,
   "metadata": {
    "ExecuteTime": {
     "end_time": "2021-03-07T19:11:08.158170Z",
     "start_time": "2021-03-07T19:11:07.859222Z"
    },
    "hidden": true
   },
   "outputs": [],
   "source": [
    "import os, sys \n",
    "import time\n",
    "\n",
    "import numpy as np \n",
    "import pandas as pd  \n",
    "import matplotlib.pyplot as plt\n",
    "import seaborn as sns\n",
    "import warnings\n",
    "warnings.filterwarnings(\"ignore\")\n"
   ]
  },
  {
   "cell_type": "code",
   "execution_count": 3,
   "metadata": {},
   "outputs": [
    {
     "name": "stderr",
     "output_type": "stream",
     "text": [
      "Setting default log level to \"WARN\".\n",
      "To adjust logging level use sc.setLogLevel(newLevel). For SparkR, use setLogLevel(newLevel).\n",
      "24/04/09 14:01:56 WARN NativeCodeLoader: Unable to load native-hadoop library for your platform... using builtin-java classes where applicable\n"
     ]
    }
   ],
   "source": [
    "# Create the Spark session\n",
    "\n",
    "findspark.init()\n",
    "findspark.find()\n",
    "\n",
    "spark = SparkSession\\\n",
    "        .builder\\\n",
    "        .appName(\"StreamingCreditCards\")\\\n",
    "        .config(\"spark.sql.shuffle.partitions\",6)\\\n",
    "        .config(\"spark.sql.repl.eagereval.enabled\",True)\\\n",
    "        .getOrCreate()"
   ]
  },
  {
   "cell_type": "code",
   "execution_count": 4,
   "metadata": {},
   "outputs": [
    {
     "data": {
      "text/html": [
       "\n",
       "            <div>\n",
       "                <p><b>SparkSession - in-memory</b></p>\n",
       "                \n",
       "        <div>\n",
       "            <p><b>SparkContext</b></p>\n",
       "\n",
       "            <p><a href=\"http://mini-de-adriano.lan:4040\">Spark UI</a></p>\n",
       "\n",
       "            <dl>\n",
       "              <dt>Version</dt>\n",
       "                <dd><code>v3.5.0</code></dd>\n",
       "              <dt>Master</dt>\n",
       "                <dd><code>local[*]</code></dd>\n",
       "              <dt>AppName</dt>\n",
       "                <dd><code>StreamingCreditCards</code></dd>\n",
       "            </dl>\n",
       "        </div>\n",
       "        \n",
       "            </div>\n",
       "        "
      ],
      "text/plain": [
       "<pyspark.sql.session.SparkSession at 0x15a33b410>"
      ]
     },
     "execution_count": 4,
     "metadata": {},
     "output_type": "execute_result"
    }
   ],
   "source": [
    "spark"
   ]
  },
  {
   "cell_type": "code",
   "execution_count": 5,
   "metadata": {},
   "outputs": [],
   "source": [
    "# Some Spark related imports we will use hereafter\n",
    "\n",
    "from pyspark.ml import PipelineModel\n"
   ]
  },
  {
   "cell_type": "code",
   "execution_count": 6,
   "metadata": {},
   "outputs": [
    {
     "data": {
      "text/html": [
       "<style>pre { white-space: pre !important; }</style>"
      ],
      "text/plain": [
       "<IPython.core.display.HTML object>"
      ]
     },
     "metadata": {},
     "output_type": "display_data"
    }
   ],
   "source": [
    "from IPython.core.display import HTML\n",
    "display(HTML(\"<style>pre { white-space: pre !important; }</style>\"))"
   ]
  },
  {
   "cell_type": "markdown",
   "metadata": {},
   "source": [
    "## Useful functions"
   ]
  },
  {
   "cell_type": "code",
   "execution_count": 7,
   "metadata": {},
   "outputs": [],
   "source": [
    "def plotBarColoured(df, xcol, ycol, colour): \n",
    "    return sns.barplot(data=df, x=xcol, y=ycol, color=colour)"
   ]
  },
  {
   "cell_type": "markdown",
   "metadata": {
    "hidden": true
   },
   "source": [
    "# Collect and label data"
   ]
  },
  {
   "cell_type": "code",
   "execution_count": 8,
   "metadata": {
    "ExecuteTime": {
     "end_time": "2021-03-07T19:11:08.953150Z",
     "start_time": "2021-03-07T19:11:08.185863Z"
    },
    "hidden": true
   },
   "outputs": [],
   "source": [
    "# ! pwd & ls -la\n"
   ]
  },
  {
   "cell_type": "raw",
   "metadata": {},
   "source": [
    "Checking working directory and data files"
   ]
  },
  {
   "cell_type": "code",
   "execution_count": null,
   "metadata": {},
   "outputs": [],
   "source": [
    "pwd"
   ]
  },
  {
   "cell_type": "code",
   "execution_count": 10,
   "metadata": {},
   "outputs": [],
   "source": [
    "data_dir = "
   ]
  },
  {
   "cell_type": "code",
   "execution_count": null,
   "metadata": {},
   "outputs": [],
   "source": [
    "ls -la $data_dir"
   ]
  },
  {
   "cell_type": "markdown",
   "metadata": {},
   "source": [
    "## Reading the dataset"
   ]
  },
  {
   "cell_type": "code",
   "execution_count": 12,
   "metadata": {
    "ExecuteTime": {
     "end_time": "2021-03-07T19:11:12.476668Z",
     "start_time": "2021-03-07T19:11:08.962435Z"
    },
    "hidden": true
   },
   "outputs": [
    {
     "name": "stderr",
     "output_type": "stream",
     "text": [
      "                                                                                \r"
     ]
    }
   ],
   "source": [
    "# Reading data\n",
    "\n",
    "file_path = \n",
    "df_transactions = spark.read.parquet(file_path)\n"
   ]
  },
  {
   "cell_type": "markdown",
   "metadata": {},
   "source": [
    "## Checking data\n",
    "Schema, show and count."
   ]
  },
  {
   "cell_type": "code",
   "execution_count": 13,
   "metadata": {},
   "outputs": [
    {
     "name": "stdout",
     "output_type": "stream",
     "text": [
      "root\n",
      " |-- User: integer (nullable = true)\n",
      " |-- Card: integer (nullable = true)\n",
      " |-- Year: integer (nullable = true)\n",
      " |-- Month: integer (nullable = true)\n",
      " |-- Day: integer (nullable = true)\n",
      " |-- Time: timestamp (nullable = true)\n",
      " |-- Use Chip: string (nullable = true)\n",
      " |-- Merchant Name: long (nullable = true)\n",
      " |-- Merchant City: string (nullable = true)\n",
      " |-- Merchant State: string (nullable = true)\n",
      " |-- Zip: double (nullable = true)\n",
      " |-- MCC: integer (nullable = true)\n",
      " |-- Is Fraud?: string (nullable = true)\n",
      " |-- Correct Amount: float (nullable = true)\n",
      " |-- Hour: integer (nullable = true)\n",
      " |-- Min: integer (nullable = true)\n",
      " |-- Transaction_Id: long (nullable = true)\n",
      "\n",
      "+----+----+----+-----+---+-------------------+------------------+--------------------+-------------+--------------+-------+----+---------+--------------+----+---+--------------+\n",
      "|User|Card|Year|Month|Day|               Time|          Use Chip|       Merchant Name|Merchant City|Merchant State|    Zip| MCC|Is Fraud?|Correct Amount|Hour|Min|Transaction_Id|\n",
      "+----+----+----+-----+---+-------------------+------------------+--------------------+-------------+--------------+-------+----+---------+--------------+----+---+--------------+\n",
      "|   0|   0|2002|    9|  1|2023-05-02 06:21:00| Swipe Transaction| 3527213246127876953|     La Verne|            CA|91750.0|5300|       No|        134.09|   6| 21|             0|\n",
      "|   0|   0|2002|    9|  1|2023-05-02 06:42:00| Swipe Transaction| -727612092139916043|Monterey Park|            CA|91754.0|5411|       No|         38.48|   6| 42|             1|\n",
      "|   0|   0|2002|    9|  2|2023-05-02 06:22:00| Swipe Transaction| -727612092139916043|Monterey Park|            CA|91754.0|5411|       No|        120.34|   6| 22|             2|\n",
      "|   0|   0|2002|    9|  2|2023-05-02 17:45:00| Swipe Transaction| 3414527459579106770|Monterey Park|            CA|91754.0|5651|       No|        128.95|  17| 45|             3|\n",
      "|   0|   0|2002|    9|  3|2023-05-02 06:23:00| Swipe Transaction| 5817218446178736267|     La Verne|            CA|91750.0|5912|       No|        104.71|   6| 23|             4|\n",
      "|   0|   0|2002|    9|  3|2023-05-02 13:53:00| Swipe Transaction|-7146670748125200898|Monterey Park|            CA|91755.0|5970|       No|         86.19|  13| 53|             5|\n",
      "|   0|   0|2002|    9|  4|2023-05-02 05:51:00| Swipe Transaction| -727612092139916043|Monterey Park|            CA|91754.0|5411|       No|         93.84|   5| 51|             6|\n",
      "|   0|   0|2002|    9|  4|2023-05-02 06:09:00| Swipe Transaction| -727612092139916043|Monterey Park|            CA|91754.0|5411|       No|         123.5|   6|  9|             7|\n",
      "|   0|   0|2002|    9|  5|2023-05-02 06:14:00| Swipe Transaction| -727612092139916043|Monterey Park|            CA|91754.0|5411|       No|         61.72|   6| 14|             8|\n",
      "|   0|   0|2002|    9|  5|2023-05-02 09:35:00| Swipe Transaction| 4055257078481058705|     La Verne|            CA|91750.0|7538|       No|          57.1|   9| 35|             9|\n",
      "|   0|   0|2002|    9|  5|2023-05-02 20:18:00| Swipe Transaction|-4500542936415012428|     La Verne|            CA|91750.0|5814|       No|         76.07|  20| 18|            10|\n",
      "|   0|   0|2002|    9|  5|2023-05-02 20:41:00|Online Transaction|-9092677072201095172|       ONLINE|          NULL|   NULL|4900|       No|         53.91|  20| 41|            11|\n",
      "|   0|   0|2002|    9|  6|2023-05-02 06:16:00| Swipe Transaction| 2027553650310142703|    Mira Loma|            CA|91752.0|5541|       No|        110.37|   6| 16|            12|\n",
      "|   0|   0|2002|    9|  7|2023-05-02 06:16:00| Swipe Transaction| -727612092139916043|Monterey Park|            CA|91754.0|5411|       No|        117.05|   6| 16|            13|\n",
      "|   0|   0|2002|    9|  7|2023-05-02 06:34:00| Swipe Transaction|-5475680618560174533|Monterey Park|            CA|91755.0|5942|       No|          45.3|   6| 34|            14|\n",
      "|   0|   0|2002|    9|  7|2023-05-02 09:39:00| Swipe Transaction| 4055257078481058705|     La Verne|            CA|91750.0|7538|       No|         29.34|   9| 39|            15|\n",
      "|   0|   0|2002|    9|  8|2023-05-02 06:10:00| Swipe Transaction|  -34551508091458520|     La Verne|            CA|91750.0|5912|       No|        147.45|   6| 10|            16|\n",
      "|   0|   0|2002|    9|  8|2023-05-02 06:38:00| Swipe Transaction| 4060646732831064559|     La Verne|            CA|91750.0|5411|       No|         27.75|   6| 38|            17|\n",
      "|   0|   0|2002|    9|  8|2023-05-02 13:48:00| Swipe Transaction| -727612092139916043|Monterey Park|            CA|91754.0|5411|       No|         76.57|  13| 48|            18|\n",
      "|   0|   0|2002|    9|  8|2023-05-02 22:01:00| Swipe Transaction|-6733168469687845480|    Mira Loma|            CA|91752.0|7832|       No|         22.56|  22|  1|            19|\n",
      "+----+----+----+-----+---+-------------------+------------------+--------------------+-------------+--------------+-------+----+---------+--------------+----+---+--------------+\n",
      "only showing top 20 rows\n",
      "\n"
     ]
    },
    {
     "data": {
      "text/plain": [
       "24386900"
      ]
     },
     "execution_count": 13,
     "metadata": {},
     "output_type": "execute_result"
    }
   ],
   "source": [
    "df_transactions.\n",
    "\n",
    "\n",
    "\n"
   ]
  },
  {
   "cell_type": "markdown",
   "metadata": {},
   "source": [
    "# Explore and evaluate data\n",
    "\n",
    "At this point, we assume that data has been properly checked while model was created.\n",
    "\n",
    "We leave it now but proper checking is warranted. Just do a plot of transactions over time.\n"
   ]
  },
  {
   "cell_type": "code",
   "execution_count": 14,
   "metadata": {},
   "outputs": [
    {
     "name": "stderr",
     "output_type": "stream",
     "text": [
      "                                                                                \r"
     ]
    },
    {
     "data": {
      "image/png": "[encoded data removed]",
      "text/plain": [
       "<Figure size 640x480 with 1 Axes>"
      ]
     },
     "metadata": {},
     "output_type": "display_data"
    }
   ],
   "source": [
    "# Just to remember ... number of transactions by year-month-day\n",
    "\n",
    "df_plot = ( df_transactions\n",
    "            .groupby(['Year', 'Month', 'Day'])\n",
    "            .count()\n",
    "            .withColumn('Year-Month-Day', F.concat('Year',F.lit('_'),'Month',F.lit('_'),'Day'))\n",
    "            .sort('Year-Month-Day', ascending=True)\n",
    "            .toPandas()\n",
    "          )\n",
    "plotBarColoured(df_plot, 'Year-Month-Day', 'count', 'orange')\n",
    "plt.title('Number of transactions by year-month-day')\n",
    "plt.show()\n"
   ]
  },
  {
   "cell_type": "code",
   "execution_count": 15,
   "metadata": {},
   "outputs": [
    {
     "data": {
      "text/html": [
       "<div>\n",
       "<style scoped>\n",
       "    .dataframe tbody tr th:only-of-type {\n",
       "        vertical-align: middle;\n",
       "    }\n",
       "\n",
       "    .dataframe tbody tr th {\n",
       "        vertical-align: top;\n",
       "    }\n",
       "\n",
       "    .dataframe thead th {\n",
       "        text-align: right;\n",
       "    }\n",
       "</style>\n",
       "<table border=\"1\" class=\"dataframe\">\n",
       "  <thead>\n",
       "    <tr style=\"text-align: right;\">\n",
       "      <th></th>\n",
       "      <th>Year</th>\n",
       "      <th>Month</th>\n",
       "      <th>Day</th>\n",
       "      <th>count</th>\n",
       "      <th>Year-Month-Day</th>\n",
       "    </tr>\n",
       "  </thead>\n",
       "  <tbody>\n",
       "    <tr>\n",
       "      <th>0</th>\n",
       "      <td>1991</td>\n",
       "      <td>10</td>\n",
       "      <td>1</td>\n",
       "      <td>6</td>\n",
       "      <td>1991_10_1</td>\n",
       "    </tr>\n",
       "    <tr>\n",
       "      <th>1</th>\n",
       "      <td>1991</td>\n",
       "      <td>10</td>\n",
       "      <td>10</td>\n",
       "      <td>4</td>\n",
       "      <td>1991_10_10</td>\n",
       "    </tr>\n",
       "    <tr>\n",
       "      <th>2</th>\n",
       "      <td>1991</td>\n",
       "      <td>10</td>\n",
       "      <td>11</td>\n",
       "      <td>1</td>\n",
       "      <td>1991_10_11</td>\n",
       "    </tr>\n",
       "    <tr>\n",
       "      <th>3</th>\n",
       "      <td>1991</td>\n",
       "      <td>10</td>\n",
       "      <td>12</td>\n",
       "      <td>3</td>\n",
       "      <td>1991_10_12</td>\n",
       "    </tr>\n",
       "    <tr>\n",
       "      <th>4</th>\n",
       "      <td>1991</td>\n",
       "      <td>10</td>\n",
       "      <td>13</td>\n",
       "      <td>8</td>\n",
       "      <td>1991_10_13</td>\n",
       "    </tr>\n",
       "  </tbody>\n",
       "</table>\n",
       "</div>"
      ],
      "text/plain": [
       "   Year  Month  Day  count Year-Month-Day\n",
       "0  1991     10    1      6      1991_10_1\n",
       "1  1991     10   10      4     1991_10_10\n",
       "2  1991     10   11      1     1991_10_11\n",
       "3  1991     10   12      3     1991_10_12\n",
       "4  1991     10   13      8     1991_10_13"
      ]
     },
     "execution_count": 15,
     "metadata": {},
     "output_type": "execute_result"
    }
   ],
   "source": [
    "df_plot.head()"
   ]
  },
  {
   "cell_type": "markdown",
   "metadata": {},
   "source": [
    "# Data Stream"
   ]
  },
  {
   "cell_type": "raw",
   "metadata": {},
   "source": [
    "As we have no real time scenario in place, we will simulate a data stream by creating a built-in `rate` source to generate events at 1-second intervals, and join those 'ticks' with data from our downloaded dataset. This creates a regular stream of sample values. \n",
    "\n",
    "Alternatively, for pratical applications, we could have used an Apache Kafka source or even a file source.\n",
    "Apache Kafka was the best solution for that matter."
   ]
  },
  {
   "cell_type": "code",
   "execution_count": 16,
   "metadata": {},
   "outputs": [],
   "source": [
    "rate_source = spark.readStream.format(\"rate\").load()"
   ]
  },
  {
   "cell_type": "code",
   "execution_count": 17,
   "metadata": {},
   "outputs": [
    {
     "name": "stdout",
     "output_type": "stream",
     "text": [
      "root\n",
      " |-- timestamp: timestamp (nullable = true)\n",
      " |-- value: long (nullable = true)\n",
      "\n"
     ]
    }
   ],
   "source": [
    "rate_source.printSchema()"
   ]
  },
  {
   "cell_type": "code",
   "execution_count": 18,
   "metadata": {},
   "outputs": [],
   "source": [
    "# We should guarantee that we are using data sorted by transaction id (aka time)\n",
    "\n",
    "df_transactions = df_transactions."
   ]
  },
  {
   "cell_type": "code",
   "execution_count": 19,
   "metadata": {},
   "outputs": [
    {
     "name": "stderr",
     "output_type": "stream",
     "text": [
      "[Stage 13:===================================================>      (8 + 1) / 9]\r"
     ]
    },
    {
     "name": "stdout",
     "output_type": "stream",
     "text": [
      "+----+-----+---+-------------------+----+---+--------------+\n",
      "|Year|Month|Day|Time               |Hour|Min|Transaction_ID|\n",
      "+----+-----+---+-------------------+----+---+--------------+\n",
      "|2002|9    |1  |2023-05-02 06:21:00|6   |21 |0             |\n",
      "|2002|9    |1  |2023-05-02 06:42:00|6   |42 |1             |\n",
      "|2002|9    |2  |2023-05-02 06:22:00|6   |22 |2             |\n",
      "|2002|9    |2  |2023-05-02 17:45:00|17  |45 |3             |\n",
      "|2002|9    |3  |2023-05-02 06:23:00|6   |23 |4             |\n",
      "|2002|9    |3  |2023-05-02 13:53:00|13  |53 |5             |\n",
      "|2002|9    |4  |2023-05-02 05:51:00|5   |51 |6             |\n",
      "|2002|9    |4  |2023-05-02 06:09:00|6   |9  |7             |\n",
      "|2002|9    |5  |2023-05-02 06:14:00|6   |14 |8             |\n",
      "|2002|9    |5  |2023-05-02 09:35:00|9   |35 |9             |\n",
      "|2002|9    |5  |2023-05-02 20:18:00|20  |18 |10            |\n",
      "|2002|9    |5  |2023-05-02 20:41:00|20  |41 |11            |\n",
      "|2002|9    |6  |2023-05-02 06:16:00|6   |16 |12            |\n",
      "|2002|9    |7  |2023-05-02 06:16:00|6   |16 |13            |\n",
      "|2002|9    |7  |2023-05-02 06:34:00|6   |34 |14            |\n",
      "|2002|9    |7  |2023-05-02 09:39:00|9   |39 |15            |\n",
      "|2002|9    |8  |2023-05-02 06:10:00|6   |10 |16            |\n",
      "|2002|9    |8  |2023-05-02 06:38:00|6   |38 |17            |\n",
      "|2002|9    |8  |2023-05-02 13:48:00|13  |48 |18            |\n",
      "|2002|9    |8  |2023-05-02 22:01:00|22  |1  |19            |\n",
      "+----+-----+---+-------------------+----+---+--------------+\n",
      "only showing top 20 rows\n",
      "\n"
     ]
    },
    {
     "name": "stderr",
     "output_type": "stream",
     "text": [
      "                                                                                \r"
     ]
    }
   ],
   "source": [
    "df_transactions.select('Year', 'Month', 'Day', 'Time', 'Hour', 'Min', 'Transaction_ID').show(20,truncate=False)"
   ]
  },
  {
   "cell_type": "markdown",
   "metadata": {},
   "source": [
    "## Creating a continuous data stream\n",
    "Circularly replaying the data as long as the process is running. It will be a simulated streaming version of the data."
   ]
  },
  {
   "cell_type": "code",
   "execution_count": 20,
   "metadata": {},
   "outputs": [],
   "source": [
    "# Circularly replay the data\n",
    "\n",
    "data_stream = ( rate_source\n",
    "                   .select(F.expr(f'value % {num_transactions}').alias('Transaction_Id'), 'timestamp')\n",
    "                   .join(df_transactions, 'Transaction_Id')\n",
    "              )"
   ]
  },
  {
   "cell_type": "code",
   "execution_count": 21,
   "metadata": {},
   "outputs": [
    {
     "name": "stdout",
     "output_type": "stream",
     "text": [
      "root\n",
      " |-- Transaction_Id: long (nullable = true)\n",
      " |-- timestamp: timestamp (nullable = true)\n",
      " |-- User: integer (nullable = true)\n",
      " |-- Card: integer (nullable = true)\n",
      " |-- Year: integer (nullable = true)\n",
      " |-- Month: integer (nullable = true)\n",
      " |-- Day: integer (nullable = true)\n",
      " |-- Time: timestamp (nullable = true)\n",
      " |-- Use Chip: string (nullable = true)\n",
      " |-- Merchant Name: long (nullable = true)\n",
      " |-- Merchant City: string (nullable = true)\n",
      " |-- Merchant State: string (nullable = true)\n",
      " |-- Zip: double (nullable = true)\n",
      " |-- MCC: integer (nullable = true)\n",
      " |-- Is Fraud?: string (nullable = true)\n",
      " |-- Correct Amount: float (nullable = true)\n",
      " |-- Hour: integer (nullable = true)\n",
      " |-- Min: integer (nullable = true)\n",
      "\n"
     ]
    }
   ],
   "source": [
    "data_stream.printSchema()"
   ]
  },
  {
   "cell_type": "code",
   "execution_count": 22,
   "metadata": {},
   "outputs": [],
   "source": [
    "cols_to_check = data_stream.columns"
   ]
  },
  {
   "cell_type": "markdown",
   "metadata": {},
   "source": [
    "# Model deployment"
   ]
  },
  {
   "cell_type": "markdown",
   "metadata": {},
   "source": [
    "# Loading the binary classification model"
   ]
  },
  {
   "cell_type": "code",
   "execution_count": 23,
   "metadata": {},
   "outputs": [
    {
     "name": "stderr",
     "output_type": "stream",
     "text": [
      "                                                                                \r"
     ]
    }
   ],
   "source": [
    "# Read the ML model via pipeline api (not the simple pipeline)\n",
    "\n",
    "persisted_model = PipelineModel."
   ]
  },
  {
   "cell_type": "code",
   "execution_count": 24,
   "metadata": {},
   "outputs": [
    {
     "data": {
      "text/plain": [
       "[StringIndexerModel: uid=StringIndexer_e1064637f5a0, handleInvalid=skip, numInputCols=2, numOutputCols=2,\n",
       " OneHotEncoderModel: uid=OneHotEncoder_6a398697f374, dropLast=true, handleInvalid=error, numInputCols=2, numOutputCols=2,\n",
       " VectorAssembler_f41b5139a541,\n",
       " LinearSVCModel: uid=LinearSVC_912312635f03, numClasses=2, numFeatures=11838]"
      ]
     },
     "execution_count": 24,
     "metadata": {},
     "output_type": "execute_result"
    }
   ],
   "source": [
    "# Check the model, namely the stages that were used\n",
    "\n",
    "persisted_model.stages"
   ]
  },
  {
   "cell_type": "markdown",
   "metadata": {},
   "source": [
    "## Streaming data transformer\n",
    "\n",
    "Let us set the operation to be applied to the stream."
   ]
  },
  {
   "cell_type": "code",
   "execution_count": 25,
   "metadata": {},
   "outputs": [],
   "source": [
    "# ML model directly applied to the streaming dataframe using `transform`\n",
    "\n",
    "prediction_stream = persisted_model.transform(\n"
   ]
  },
  {
   "cell_type": "code",
   "execution_count": 26,
   "metadata": {},
   "outputs": [
    {
     "name": "stdout",
     "output_type": "stream",
     "text": [
      "root\n",
      " |-- Transaction_Id: long (nullable = true)\n",
      " |-- timestamp: timestamp (nullable = true)\n",
      " |-- User: integer (nullable = true)\n",
      " |-- Card: integer (nullable = true)\n",
      " |-- Year: integer (nullable = true)\n",
      " |-- Month: integer (nullable = true)\n",
      " |-- Day: integer (nullable = true)\n",
      " |-- Time: timestamp (nullable = true)\n",
      " |-- Use Chip: string (nullable = true)\n",
      " |-- Merchant Name: long (nullable = true)\n",
      " |-- Merchant City: string (nullable = true)\n",
      " |-- Merchant State: string (nullable = true)\n",
      " |-- Zip: double (nullable = true)\n",
      " |-- MCC: integer (nullable = true)\n",
      " |-- Is Fraud?: string (nullable = true)\n",
      " |-- Correct Amount: float (nullable = true)\n",
      " |-- Hour: integer (nullable = true)\n",
      " |-- Min: integer (nullable = true)\n",
      " |-- Use Chip Index: double (nullable = false)\n",
      " |-- Merchant City Index: double (nullable = false)\n",
      " |-- Use Chip OHE: vector (nullable = true)\n",
      " |-- Merchant City OHE: vector (nullable = true)\n",
      " |-- features: vector (nullable = true)\n",
      " |-- rawPrediction: vector (nullable = true)\n",
      " |-- prediction: double (nullable = false)\n",
      "\n"
     ]
    }
   ],
   "source": [
    "prediction_stream.printSchema()"
   ]
  },
  {
   "cell_type": "markdown",
   "metadata": {},
   "source": [
    "## Consuming predictions"
   ]
  },
  {
   "cell_type": "markdown",
   "metadata": {},
   "source": [
    "The final step is to do something with the prediction data.\n",
    "For the time being, we are going to limit this step to just querying the data. \n",
    "\n",
    "For real-world application, we can offer this kind of service to other applications.\n",
    "\n",
    "Maybe in the form of an HTTP-based API or through pub/sub messaging interactions."
   ]
  },
  {
   "cell_type": "code",
   "execution_count": 27,
   "metadata": {},
   "outputs": [
    {
     "data": {
      "text/plain": [
       "['Transaction_Id',\n",
       " 'timestamp',\n",
       " 'User',\n",
       " 'Card',\n",
       " 'Year',\n",
       " 'Month',\n",
       " 'Day',\n",
       " 'Time',\n",
       " 'Use Chip',\n",
       " 'Merchant Name',\n",
       " 'Merchant City',\n",
       " 'Merchant State',\n",
       " 'Zip',\n",
       " 'MCC',\n",
       " 'Is Fraud?',\n",
       " 'Correct Amount',\n",
       " 'Hour',\n",
       " 'Min',\n",
       " 'prediction']"
      ]
     },
     "execution_count": 27,
     "metadata": {},
     "output_type": "execute_result"
    }
   ],
   "source": [
    "cols_to_check.append('prediction')\n",
    "cols_to_check"
   ]
  },
  {
   "cell_type": "code",
   "execution_count": 28,
   "metadata": {},
   "outputs": [
    {
     "data": {
      "text/plain": [
       "DataFrame[]"
      ]
     },
     "execution_count": 28,
     "metadata": {},
     "output_type": "execute_result"
    }
   ],
   "source": [
    "# Just in case we want to start a table containing results but from scratch\n",
    "\n",
    "spark.sql(\"drop table if exists cardtransactionstable\")"
   ]
  },
  {
   "cell_type": "code",
   "execution_count": 29,
   "metadata": {},
   "outputs": [
    {
     "name": "stderr",
     "output_type": "stream",
     "text": [
      "24/04/09 14:02:41 WARN ResolveWriteToStream: Temporary checkpoint location created which is deleted normally when the query didn't fail: /private/var/folders/wl/4zhklts97ms69hcxbggp8fj00000gn/T/temporary-98371f95-110d-46d8-8323-58246d8b9567. If it's required to delete it under any circumstances, please set spark.sql.streaming.forceDeleteTempCheckpointLocation to true. Important to know deleting temp checkpoint folder is best effort.\n",
      "24/04/09 14:02:41 WARN ResolveWriteToStream: spark.sql.adaptive.enabled is not supported in streaming DataFrames/Datasets and will be disabled.\n"
     ]
    }
   ],
   "source": [
    "# In case we want to store in an in-memory table (the sink). \n",
    "# The query name will be the table name\n",
    "\n",
    "# After executing the code, the streaming computation will start in the background\n",
    "\n",
    "query_1 = ( prediction_stream\n",
    "                        .select(cols_to_check)\n",
    "                        .writeStream\n",
    "                        .queryName(\"cardtransactionstable\")\n",
    "                        .outputMode(\"append\")  # append, update\n",
    "                        .format(\"memory\")\n",
    "                        .start()\n",
    "                   )\n"
   ]
  },
  {
   "cell_type": "code",
   "execution_count": 30,
   "metadata": {},
   "outputs": [],
   "source": [
    "# Setup an aggregation by day concerning the number of frauds detected\n",
    "#\n",
    "# We leave this as exercise\n",
    "\n",
    "# fraud_count = ...\n",
    "\n",
    "# query_2 = ..."
   ]
  },
  {
   "cell_type": "code",
   "execution_count": 31,
   "metadata": {},
   "outputs": [
    {
     "data": {
      "text/plain": [
       "True"
      ]
     },
     "execution_count": 31,
     "metadata": {},
     "output_type": "execute_result"
    }
   ],
   "source": [
    "# Some extra checks\n",
    "\n",
    "spark.streams.active[0].isActive\n"
   ]
  },
  {
   "cell_type": "code",
   "execution_count": 32,
   "metadata": {},
   "outputs": [
    {
     "data": {
      "text/plain": [
       "{'message': 'Initializing sources',\n",
       " 'isDataAvailable': False,\n",
       " 'isTriggerActive': False}"
      ]
     },
     "execution_count": 32,
     "metadata": {},
     "output_type": "execute_result"
    }
   ],
   "source": [
    "query_1.status\n"
   ]
  },
  {
   "cell_type": "code",
   "execution_count": 33,
   "metadata": {},
   "outputs": [],
   "source": [
    "query_1.lastProgress\n"
   ]
  },
  {
   "cell_type": "markdown",
   "metadata": {},
   "source": [
    "# Exploring results"
   ]
  },
  {
   "cell_type": "code",
   "execution_count": 34,
   "metadata": {},
   "outputs": [
    {
     "name": "stdout",
     "output_type": "stream",
     "text": [
      "+---------+---------------------+-----------+\n",
      "|namespace|tableName            |isTemporary|\n",
      "+---------+---------------------+-----------+\n",
      "|         |cardtransactionstable|true       |\n",
      "+---------+---------------------+-----------+\n",
      "\n"
     ]
    }
   ],
   "source": [
    "# Figure out the tables we hold\n",
    "\n",
    "spark.sql(\"show tables\").show(truncate=False)\n"
   ]
  },
  {
   "cell_type": "code",
   "execution_count": 40,
   "metadata": {},
   "outputs": [
    {
     "name": "stderr",
     "output_type": "stream",
     "text": [
      "[Stage 37:>                 (0 + 8) / 9][Stage 39:>                 (0 + 0) / 1]\r"
     ]
    },
    {
     "name": "stdout",
     "output_type": "stream",
     "text": [
      "+--------------+-----------------------+----+----+----+-----+---+-------------------+-----------------+--------------------+-------------+--------------+-------+----+---------+--------------+----+---+----------+\n",
      "|Transaction_Id|timestamp              |User|Card|Year|Month|Day|Time               |Use Chip         |Merchant Name       |Merchant City|Merchant State|Zip    |MCC |Is Fraud?|Correct Amount|Hour|Min|prediction|\n",
      "+--------------+-----------------------+----+----+----+-----+---+-------------------+-----------------+--------------------+-------------+--------------+-------+----+---------+--------------+----+---+----------+\n",
      "|0             |2024-04-09 14:02:42.115|0   |0   |2002|9    |1  |2023-05-02 06:21:00|Swipe Transaction|3527213246127876953 |La Verne     |CA            |91750.0|5300|No       |134.09        |6   |21 |0.0       |\n",
      "|2             |2024-04-09 14:02:44.115|0   |0   |2002|9    |2  |2023-05-02 06:22:00|Swipe Transaction|-727612092139916043 |Monterey Park|CA            |91754.0|5411|No       |120.34        |6   |22 |0.0       |\n",
      "|4             |2024-04-09 14:02:46.115|0   |0   |2002|9    |3  |2023-05-02 06:23:00|Swipe Transaction|5817218446178736267 |La Verne     |CA            |91750.0|5912|No       |104.71        |6   |23 |0.0       |\n",
      "|5             |2024-04-09 14:02:47.115|0   |0   |2002|9    |3  |2023-05-02 13:53:00|Swipe Transaction|-7146670748125200898|Monterey Park|CA            |91755.0|5970|No       |86.19         |13  |53 |0.0       |\n",
      "|8             |2024-04-09 14:02:50.115|0   |0   |2002|9    |5  |2023-05-02 06:14:00|Swipe Transaction|-727612092139916043 |Monterey Park|CA            |91754.0|5411|No       |61.72         |6   |14 |0.0       |\n",
      "|3             |2024-04-09 14:02:45.115|0   |0   |2002|9    |2  |2023-05-02 17:45:00|Swipe Transaction|3414527459579106770 |Monterey Park|CA            |91754.0|5651|No       |128.95        |17  |45 |0.0       |\n",
      "|6             |2024-04-09 14:02:48.115|0   |0   |2002|9    |4  |2023-05-02 05:51:00|Swipe Transaction|-727612092139916043 |Monterey Park|CA            |91754.0|5411|No       |93.84         |5   |51 |0.0       |\n",
      "|7             |2024-04-09 14:02:49.115|0   |0   |2002|9    |4  |2023-05-02 06:09:00|Swipe Transaction|-727612092139916043 |Monterey Park|CA            |91754.0|5411|No       |123.5         |6   |9  |0.0       |\n",
      "|1             |2024-04-09 14:02:43.115|0   |0   |2002|9    |1  |2023-05-02 06:42:00|Swipe Transaction|-727612092139916043 |Monterey Park|CA            |91754.0|5411|No       |38.48         |6   |42 |0.0       |\n",
      "|9             |2024-04-09 14:02:51.115|0   |0   |2002|9    |5  |2023-05-02 09:35:00|Swipe Transaction|4055257078481058705 |La Verne     |CA            |91750.0|7538|No       |57.1          |9   |35 |0.0       |\n",
      "|10            |2024-04-09 14:02:52.115|0   |0   |2002|9    |5  |2023-05-02 20:18:00|Swipe Transaction|-4500542936415012428|La Verne     |CA            |91750.0|5814|No       |76.07         |20  |18 |0.0       |\n",
      "+--------------+-----------------------+----+----+----+-----+---+-------------------+-----------------+--------------------+-------------+--------------+-------+----+---------+--------------+----+---+----------+\n",
      "\n"
     ]
    },
    {
     "name": "stderr",
     "output_type": "stream",
     "text": [
      "24/04/09 14:03:17 WARN DAGScheduler: Broadcasting large task binary with size 1498.6 KiB\n",
      "[Stage 38:>                                                         (0 + 6) / 6]\r"
     ]
    }
   ],
   "source": [
    "# Interactively query in-memory table\n",
    "\n",
    "spark.sql(\"select * from cardtransactionstable\").show(truncate=False)  \n"
   ]
  },
  {
   "cell_type": "code",
   "execution_count": 41,
   "metadata": {},
   "outputs": [
    {
     "name": "stdout",
     "output_type": "stream",
     "text": [
      "+--------+\n",
      "|count(1)|\n",
      "+--------+\n",
      "|      11|\n",
      "+--------+\n",
      "\n"
     ]
    },
    {
     "name": "stderr",
     "output_type": "stream",
     "text": [
      "[Stage 45:>                 (0 + 8) / 9][Stage 46:>                 (0 + 0) / 8]\r"
     ]
    }
   ],
   "source": [
    "# Interactively another query in-memory table\n",
    "\n",
    "spark.sql(\"select count(*) from cardtransactionstable\").show()"
   ]
  },
  {
   "cell_type": "raw",
   "metadata": {},
   "source": [
    "\n",
    "Visual analysis ... we leave it as an exercise!\n"
   ]
  },
  {
   "cell_type": "markdown",
   "metadata": {},
   "source": [
    "## Stopping the process"
   ]
  },
  {
   "cell_type": "code",
   "execution_count": null,
   "metadata": {},
   "outputs": [],
   "source": [
    "# We can turn off the query now and eventually set up a different one\n",
    "\n",
    "query_1.stop()"
   ]
  },
  {
   "cell_type": "code",
   "execution_count": 38,
   "metadata": {},
   "outputs": [
    {
     "name": "stderr",
     "output_type": "stream",
     "text": [
      "[Stage 30:===================================================>      (8 + 1) / 9]\r"
     ]
    }
   ],
   "source": [
    "# Notice that in a production environment, we have to establish \n",
    "# that the query is awaiting termination so to prevent the driver \n",
    "# process from termination when the stream is ative\n",
    "\n",
    "# query_1.awaitTermination()\n",
    "\n",
    "# query_2.awaitTermination()\n"
   ]
  },
  {
   "cell_type": "markdown",
   "metadata": {
    "heading_collapsed": true
   },
   "source": [
    "# Additional exercise\n",
    "\n",
    "Once this exercise is completed, create a new notebook with similar implementation but using a different streaming setup. Specifically, relying also in the messaging system Apache Kafka.\n"
   ]
  },
  {
   "cell_type": "markdown",
   "metadata": {
    "heading_collapsed": true
   },
   "source": [
    "# References"
   ]
  },
  {
   "cell_type": "markdown",
   "metadata": {
    "hidden": true
   },
   "source": [
    "* Learning Spark - Lightning-Fast Data Analytics, 2nd Ed. J. Damji, B. Wenig, T. Das, and D. Lee. O'Reilly, 2020\n",
    "* Stream Processing with Apache Spark. G. Maas and F. Garillot. O'Reilly, 2019\n"
   ]
  },
  {
   "cell_type": "code",
   "execution_count": null,
   "metadata": {
    "hidden": true
   },
   "outputs": [],
   "source": []
  }
 ],
 "metadata": {
  "kernelspec": {
   "display_name": "pyspark_env",
   "language": "python",
   "name": "pyspark_env"
  },
  "language_info": {
   "codemirror_mode": {
    "name": "ipython",
    "version": 3
   },
   "file_extension": ".py",
   "mimetype": "text/x-python",
   "name": "python",
   "nbconvert_exporter": "python",
   "pygments_lexer": "ipython3",
   "version": "3.12.1"
  },
  "toc": {
   "base_numbering": 1,
   "nav_menu": {
    "height": "249px",
    "width": "332px"
   },
   "number_sections": true,
   "sideBar": true,
   "skip_h1_title": false,
   "title_cell": "Table of Contents",
   "title_sidebar": "Contents",
   "toc_cell": false,
   "toc_position": {
    "height": "calc(100% - 180px)",
    "left": "10px",
    "top": "150px",
    "width": "204.98px"
   },
   "toc_section_display": true,
   "toc_window_display": true
  }
 },
 "nbformat": 4,
 "nbformat_minor": 4
}
